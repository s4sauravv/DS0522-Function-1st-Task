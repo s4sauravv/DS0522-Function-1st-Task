{
 "cells": [
  {
   "cell_type": "code",
   "execution_count": 9,
   "id": "c04c7791",
   "metadata": {},
   "outputs": [],
   "source": [
    "def test(name,mark1,mark2):\n",
    "    print('congrats your name is',name,'you have got ',mark1+mark2)"
   ]
  },
  {
   "cell_type": "code",
   "execution_count": 10,
   "id": "449166bc",
   "metadata": {},
   "outputs": [
    {
     "name": "stdout",
     "output_type": "stream",
     "text": [
      "congrats your name is saurav you have got  81\n"
     ]
    }
   ],
   "source": [
    "test('saurav',43,38)"
   ]
  },
  {
   "cell_type": "code",
   "execution_count": null,
   "id": "891b7c96",
   "metadata": {},
   "outputs": [],
   "source": []
  }
 ],
 "metadata": {
  "kernelspec": {
   "display_name": "Python 3 (ipykernel)",
   "language": "python",
   "name": "python3"
  },
  "language_info": {
   "codemirror_mode": {
    "name": "ipython",
    "version": 3
   },
   "file_extension": ".py",
   "mimetype": "text/x-python",
   "name": "python",
   "nbconvert_exporter": "python",
   "pygments_lexer": "ipython3",
   "version": "3.9.7"
  }
 },
 "nbformat": 4,
 "nbformat_minor": 5
}
